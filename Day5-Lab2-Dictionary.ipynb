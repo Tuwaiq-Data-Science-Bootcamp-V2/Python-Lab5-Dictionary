{
 "cells": [
  {
   "cell_type": "code",
   "execution_count": 16,
   "id": "8b91ea97",
   "metadata": {},
   "outputs": [
    {
     "name": "stdout",
     "output_type": "stream",
     "text": [
      "Please enter a phone number: jdfd\n",
      "jdfd\n",
      "This is invalid number\n",
      "Please enter a phone number: 1343434\n",
      "1343434\n",
      "This is invalid number\n",
      "Please enter a phone number: 6666666666\n",
      "6666666666\n",
      "Faisal\n"
     ]
    }
   ],
   "source": [
    "phone_book = {    \n",
    "    1111111111 : 'Amal',\n",
    "    2222222222 : 'Mohammed',\n",
    "    3333333333 : 'Khadijah',\n",
    "    4444444444 : 'Abdullah',\n",
    "    5555555555 : 'Rawan',\n",
    "    6666666666 : 'Faisal',\n",
    "    7777777777 : 'Layla'\n",
    "}\n",
    "\n",
    "while True:\n",
    "    try:\n",
    "        num = input('Please enter a phone number: ')\n",
    "        print(num)\n",
    "        if len(num) != 10:\n",
    "            print('This is invalid number')\n",
    "            continue\n",
    "        else:\n",
    "            break\n",
    "            \n",
    "    except ValueError:\n",
    "        print('This is invalid number')\n",
    "num = int(num)\n",
    "if phone_book.get(num) == 'None':\n",
    "    print('Sorry the number is not found')\n",
    "else:\n",
    "    print(phone_book.get(num))"
   ]
  },
  {
   "cell_type": "code",
   "execution_count": null,
   "id": "e299884e",
   "metadata": {},
   "outputs": [],
   "source": []
  }
 ],
 "metadata": {
  "kernelspec": {
   "display_name": "Python 3 (ipykernel)",
   "language": "python",
   "name": "python3"
  },
  "language_info": {
   "codemirror_mode": {
    "name": "ipython",
    "version": 3
   },
   "file_extension": ".py",
   "mimetype": "text/x-python",
   "name": "python",
   "nbconvert_exporter": "python",
   "pygments_lexer": "ipython3",
   "version": "3.10.6"
  }
 },
 "nbformat": 4,
 "nbformat_minor": 5
}
