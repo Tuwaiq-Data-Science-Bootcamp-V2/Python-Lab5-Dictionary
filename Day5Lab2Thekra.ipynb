{
 "cells": [
  {
   "cell_type": "code",
   "execution_count": null,
   "id": "da13b29c-63fa-42e8-a6ad-707553255a84",
   "metadata": {},
   "outputs": [],
   "source": [
    "nestedDic = {'1' : {'Name':'Amal' ,'Number': 1111111111},\n",
    "             '2' : {'Name':'Mohammed','Number': 2222222222},\n",
    "             '3' : {'Name' : 'Khadijah','Number': 3333333333 },\n",
    "             '4' : {'Name' :'Abdullah' ,'Number': 4444444444 },\n",
    "             '5' : {'Name' :'Rawan' ,'Number': 5555555555} , \n",
    "             '6' : {'Name' : 'Faisal','Number': 6666666666 },\n",
    "             '7' : {'Name' : 'Layla' , 'Number': 7777777777},\n",
    "            }\n",
    "\n",
    "\n",
    "num = (input(\"Please Enter your number :\"))\n",
    "if len(num)>10 or. len(num)<10:\n",
    "     print('This is invalid number')\n",
    "elif not num.isnumeric():\n",
    "    print('This is invalid number, contine letter')\n",
    "else:\n",
    "    notfound= True\n",
    "    for key,value in nestedDic.items():\n",
    "        if int(num) == value['Number']:\n",
    "            print(\n",
    "\n",
    "dict.get(key,value) \n",
    "#If the number exists\n",
    "  print \"keys\"\n",
    "else:\n",
    "  print 'Sorry, the number is not found'\n",
    "#If the number is less or more than 10 numbers\n",
    "else:\n",
    "  print 'This is invalid number'\n",
    "#If the number contains letters or symbols\n",
    "else:\n",
    "  print 'This is invalid number'\n"
   ]
  }
 ],
 "metadata": {
  "kernelspec": {
   "display_name": "Python 3 (ipykernel)",
   "language": "python",
   "name": "python3"
  },
  "language_info": {
   "codemirror_mode": {
    "name": "ipython",
    "version": 3
   },
   "file_extension": ".py",
   "mimetype": "text/x-python",
   "name": "python",
   "nbconvert_exporter": "python",
   "pygments_lexer": "ipython3",
   "version": "3.9.13"
  }
 },
 "nbformat": 4,
 "nbformat_minor": 5
}
