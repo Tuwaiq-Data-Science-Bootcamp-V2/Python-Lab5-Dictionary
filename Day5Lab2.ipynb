{
  "nbformat": 4,
  "nbformat_minor": 0,
  "metadata": {
    "colab": {
      "provenance": []
    },
    "kernelspec": {
      "name": "python3",
      "display_name": "Python 3"
    },
    "language_info": {
      "name": "python"
    }
  },
  "cells": [
    {
      "cell_type": "code",
      "execution_count": 128,
      "metadata": {
        "id": "v8DLjhilLvtN"
      },
      "outputs": [],
      "source": [
        "phone_book = {   \n",
        "'Amal': 1111111111,\n",
        "'Mohammed': 2222222222,\n",
        "'Khadijah': 3333333333,\n",
        "'Abdullah': 4444444444,\n",
        "'Rawan': 5555555555,\n",
        "'Faisal': 6666666666,\n",
        "'Layla': 7777777777,\n",
        "}\n"
      ]
    },
    {
      "cell_type": "code",
      "source": [
        "\"\"\"If the number exists, print the owner. Otherwise, print \"Sorry, the number is not found\".\n",
        "If the number is less or more than 10 numbers, print \"This is invalid number\".\n",
        "If the number contains letters or symbols, print \"This is invalid number \"\"\""
      ],
      "metadata": {
        "id": "XJc109ib6uzX"
      },
      "execution_count": null,
      "outputs": []
    },
    {
      "cell_type": "code",
      "source": [
        "\n",
        "user_input = input('Enter a digit: ')\n",
        "if user_input.isdigit() and len(user_input)==10:\n",
        "  print('number is valid')\n",
        "\n",
        "else:\n",
        "  print('This is invalid number')  \n",
        "\n",
        "    "
      ],
      "metadata": {
        "colab": {
          "base_uri": "https://localhost:8080/"
        },
        "id": "cwlJyq2XLR5o",
        "outputId": "4fdf0bad-e3a5-43ae-f9fa-c2fb338e1e07"
      },
      "execution_count": 135,
      "outputs": [
        {
          "output_type": "stream",
          "name": "stdout",
          "text": [
            "Enter a digit: 4444444444\n",
            "number is valid\n"
          ]
        }
      ]
    },
    {
      "cell_type": "code",
      "source": [
        "def get_name(number):\n",
        "    for key, value in phone_book.items():\n",
        "        if number == value:\n",
        "            return key\n",
        "    return \"Sorry, the number is not found\"\n",
        "num=int(user_input)\n",
        "get_name(num)  \n"
      ],
      "metadata": {
        "colab": {
          "base_uri": "https://localhost:8080/",
          "height": 35
        },
        "id": "QQiStc7INasa",
        "outputId": "1e290c5a-ef07-4b28-aa9a-3dfa52be3d4b"
      },
      "execution_count": 138,
      "outputs": [
        {
          "output_type": "execute_result",
          "data": {
            "text/plain": [
              "'Abdullah'"
            ],
            "application/vnd.google.colaboratory.intrinsic+json": {
              "type": "string"
            }
          },
          "metadata": {},
          "execution_count": 138
        }
      ]
    }
  ]
}