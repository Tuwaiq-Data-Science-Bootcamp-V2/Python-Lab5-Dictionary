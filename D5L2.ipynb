{
 "cells": [
  {
   "cell_type": "code",
   "execution_count": 74,
   "id": "8e268a48",
   "metadata": {},
   "outputs": [
    {
     "name": "stdout",
     "output_type": "stream",
     "text": [
      "please enter the phone number6666666666\n",
      "{'Faisal'}\n"
     ]
    }
   ],
   "source": [
    "dict1 ={\n",
    "    \"Amal\" : 1111111111,\n",
    "    \"Mohammed\" : 2222222222,\n",
    "    \"Khadijah\" : 3333333333,\n",
    "    \"Abdullah\" : 4444444444,\n",
    "    \"Rawan\" : 5555555555,\n",
    "    \"Faisal\" : 6666666666,\n",
    "    \"Layla\" : 7777777777\n",
    "}\n",
    "\n",
    "us = input(\"please enter the phone number\")\n",
    "value2 = {' '}\n",
    "if  len(us) != 10 and us.isdigit() == False :\n",
    "    print(\"This is invalid number\")\n",
    "else:\n",
    "    value2 = { i for i in dict1 if dict1[i] == int(us) }\n",
    "    \n",
    "if value2 == set() :\n",
    "    print(\"Sorry, the number is not found\")\n",
    "else:\n",
    "    print(value2)\n",
    "    \n",
    "   \n",
    "\n",
    "\n",
    "    \n",
    "\n",
    "    \n",
    "         \n"
   ]
  },
  {
   "cell_type": "code",
   "execution_count": 72,
   "id": "f37eb838",
   "metadata": {},
   "outputs": [],
   "source": []
  },
  {
   "cell_type": "code",
   "execution_count": null,
   "id": "f7af268a",
   "metadata": {},
   "outputs": [],
   "source": []
  }
 ],
 "metadata": {
  "kernelspec": {
   "display_name": "Python 3 (ipykernel)",
   "language": "python",
   "name": "python3"
  },
  "language_info": {
   "codemirror_mode": {
    "name": "ipython",
    "version": 3
   },
   "file_extension": ".py",
   "mimetype": "text/x-python",
   "name": "python",
   "nbconvert_exporter": "python",
   "pygments_lexer": "ipython3",
   "version": "3.9.13"
  }
 },
 "nbformat": 4,
 "nbformat_minor": 5
}
