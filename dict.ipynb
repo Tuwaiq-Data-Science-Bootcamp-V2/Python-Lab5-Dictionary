{
 "cells": [
  {
   "cell_type": "markdown",
   "id": "b7d6774b",
   "metadata": {},
   "source": [
    "# Day5-Lab2-Dictionary\n",
    "\n",
    "Build a phone book program that receives the phone number, and returns the name of the owner. You can follow the table below:\n",
    "\n",
    "| Name\t  |   Number\n",
    "|---------|----------|\n",
    "|Amal\t    |1111111111|\n",
    "|Mohammed\t|2222222222|\n",
    "|Khadijah\t|3333333333|\n",
    "|Abdullah\t|4444444444|\n",
    "|Rawan\t  |5555555555|\n",
    "|Faisal\t  |6666666666|\n",
    "|Layla\t  |7777777777|\n",
    "\n",
    "- If the number exists, print the owner. Otherwise, print \"Sorry, the number is not found\".\n",
    "- If the number is less or more than 10 numbers, print \"This is invalid number\".\n",
    "- If the number contains letters or symbols, print \"This is invalid number\".\n"
   ]
  },
  {
   "cell_type": "code",
   "execution_count": 7,
   "id": "5f2beb9f",
   "metadata": {},
   "outputs": [],
   "source": [
    "phones={1111111111:'Amal',2222222222:'Mohammed',3333333333:'Khadijah',\n",
    "       4444444444:'Abdullah',5555555555:'Rawan',6666666666:'Faisal',7777777777:'Layla'}"
   ]
  },
  {
   "cell_type": "code",
   "execution_count": 27,
   "id": "e400172f",
   "metadata": {},
   "outputs": [],
   "source": [
    "def get_name(num):\n",
    "    if len(str(num)) <10 or len(str(num))>10 or type(num)=='str':\n",
    "        out='This is invalid number'\n",
    "    else:\n",
    "        out=phones.get(num,\"Sorry, the number is not found\")\n",
    "    return out\n"
   ]
  },
  {
   "cell_type": "code",
   "execution_count": 28,
   "id": "b7308ae8",
   "metadata": {},
   "outputs": [
    {
     "data": {
      "text/plain": [
       "'Layla'"
      ]
     },
     "execution_count": 28,
     "metadata": {},
     "output_type": "execute_result"
    }
   ],
   "source": [
    "get_name(7777777777)"
   ]
  },
  {
   "cell_type": "code",
   "execution_count": 29,
   "id": "6d873149",
   "metadata": {},
   "outputs": [
    {
     "data": {
      "text/plain": [
       "'Sorry, the number is not found'"
      ]
     },
     "execution_count": 29,
     "metadata": {},
     "output_type": "execute_result"
    }
   ],
   "source": [
    "get_name(1234567890)"
   ]
  },
  {
   "cell_type": "code",
   "execution_count": 30,
   "id": "e7fe32a7",
   "metadata": {},
   "outputs": [
    {
     "data": {
      "text/plain": [
       "'This is invalid number'"
      ]
     },
     "execution_count": 30,
     "metadata": {},
     "output_type": "execute_result"
    }
   ],
   "source": [
    "get_name(123456890)"
   ]
  },
  {
   "cell_type": "code",
   "execution_count": null,
   "id": "156e4198",
   "metadata": {},
   "outputs": [],
   "source": []
  }
 ],
 "metadata": {
  "kernelspec": {
   "display_name": "Python 3 (ipykernel)",
   "language": "python",
   "name": "python3"
  },
  "language_info": {
   "codemirror_mode": {
    "name": "ipython",
    "version": 3
   },
   "file_extension": ".py",
   "mimetype": "text/x-python",
   "name": "python",
   "nbconvert_exporter": "python",
   "pygments_lexer": "ipython3",
   "version": "3.8.10"
  }
 },
 "nbformat": 4,
 "nbformat_minor": 5
}
