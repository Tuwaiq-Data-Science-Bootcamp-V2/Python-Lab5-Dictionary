{
 "cells": [
  {
   "cell_type": "code",
   "execution_count": null,
   "metadata": {},
   "outputs": [],
   "source": [
    "## Day 5 Lab 2 \n",
    "## Dictionary"
   ]
  },
  {
   "cell_type": "code",
   "execution_count": null,
   "metadata": {},
   "outputs": [],
   "source": [
    "phonebook ={ 'Amal': 1111111111 ,'Mohammed' :2222222222,\n",
    "            'Khadijah':3333333333,'Abdullah' :444444444,\n",
    "            'Rawan' :5555555555,'Faisal' :6666666666,\n",
    "            'Layla':7777777777}\n",
    "phonebook"
   ]
  },
  {
   "cell_type": "code",
   "execution_count": null,
   "metadata": {},
   "outputs": [],
   "source": [
    "print(\"Welcome, Please write the Number you want to find\")\n",
    "while True:\n",
    "    number = input(\"Number: \")\n",
    "    if number == 'exit':\n",
    "        break\n",
    "    elif len(number)<10:\n",
    "        \n",
    "        print(\"This is invalid number, make sure you type 10 digits\")\n",
    "    else:\n",
    "        try:\n",
    "            num=int(number)\n",
    "            exist = False\n",
    "            for key,value in phonebook.items():\n",
    "                if num == value:\n",
    "                    print(\"This Number is for\", key)\n",
    "                    exist = True\n",
    "                    break\n",
    "            if exist:\n",
    "                break\n",
    "            else:\n",
    "                print(\"Number not found\")\n",
    "        except:\n",
    "            print(\"Invalid number please try again or type exit to close the program\")"
   ]
  },
  {
   "cell_type": "code",
   "execution_count": null,
   "metadata": {},
   "outputs": [],
   "source": []
  }
 ],
 "metadata": {
  "kernelspec": {
   "display_name": "Python 3",
   "language": "python",
   "name": "python3"
  },
  "language_info": {
   "codemirror_mode": {
    "name": "ipython",
    "version": 3
   },
   "file_extension": ".py",
   "mimetype": "text/x-python",
   "name": "python",
   "nbconvert_exporter": "python",
   "pygments_lexer": "ipython3",
   "version": "3.7.6"
  }
 },
 "nbformat": 4,
 "nbformat_minor": 4
}
